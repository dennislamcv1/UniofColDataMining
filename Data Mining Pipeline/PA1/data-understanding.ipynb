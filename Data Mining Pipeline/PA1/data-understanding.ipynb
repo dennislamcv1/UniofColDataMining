{
 "cells": [
  {
   "cell_type": "markdown",
   "metadata": {},
   "source": [
    "## Homework 1\n",
    "***\n",
    "**Name**: $<$insert name here$>$ \n",
    "***\n",
    "\n",
    "Remember that you are encouraged to discuss the problems with your instructors and classmates, but **you must write all code and solutions on your own**."
   ]
  },
  {
   "cell_type": "markdown",
   "metadata": {
    "deletable": false,
    "editable": false,
    "nbgrader": {
     "cell_type": "markdown",
     "checksum": "e974135f00aa48a38dda5ab233a697b6",
     "grade": false,
     "grade_id": "cell-c7b8374d461494ad",
     "locked": true,
     "schema_version": 3,
     "solution": false,
     "task": false
    }
   },
   "source": [
    "The rules to be followed for the assignment are:\n",
    "\n",
    "- Do **NOT** load additional packages beyond what we've shared in the cells below.\n",
    "- Some problems with code may be autograded.  If we provide a function or class API **do not** change it.\n",
    "- Do not change the location of the data or data directory.  Use only relative paths to access the data. "
   ]
  },
  {
   "cell_type": "code",
   "execution_count": 1,
   "metadata": {
    "deletable": false,
    "editable": false,
    "nbgrader": {
     "cell_type": "code",
     "checksum": "e19535a43a9d79e729147f79322d3111",
     "grade": false,
     "grade_id": "cell-aa7ead21241f7f78",
     "locked": true,
     "schema_version": 3,
     "solution": false,
     "task": false
    }
   },
   "outputs": [],
   "source": [
    "import argparse\n",
    "import pandas as pd\n",
    "import numpy as np\n",
    "import pickle\n",
    "from pathlib import Path"
   ]
  },
  {
   "cell_type": "markdown",
   "metadata": {
    "deletable": false,
    "editable": false,
    "nbgrader": {
     "cell_type": "markdown",
     "checksum": "2658a1f4b388acfafe60ca3109dbde7c",
     "grade": false,
     "grade_id": "cell-c6ef787f8b6db0de",
     "locked": true,
     "schema_version": 3,
     "solution": false,
     "task": false
    }
   },
   "source": [
    "### Problem 1 - [10 points] \n",
    "***\n",
    "\n",
    "The Function below should return the following attributes for the ith column: \n",
    "- Number of objects\n",
    "- The minimum value\n",
    "- The maximum value\n",
    "- The mean value\n",
    "- The standard deviation value\n",
    "- The Q1 value\n",
    "- The median value\n",
    "- The Q3 value\n",
    "- The IQR value\n",
    "\n",
    "Note:\n",
    "- A sample dataset to test your code has been provided in the location \"data/dataset.csv\". Please maintain this as it would be necessary while grading.\n",
    "- Do not change the variable names of the returned values.\n",
    "- After calculating each of those values, assign them to the corresponding value that is being returned.\n",
    "- The ithAttribute value can range from 0 - 10"
   ]
  },
  {
   "cell_type": "code",
   "execution_count": 2,
   "metadata": {
    "deletable": false,
    "nbgrader": {
     "cell_type": "code",
     "checksum": "beadf58e7bbf284359ae06a6fcf72d37",
     "grade": false,
     "grade_id": "cell-198f2f7afeacde85",
     "locked": false,
     "schema_version": 3,
     "solution": true,
     "task": false
    }
   },
   "outputs": [],
   "source": [
    "\n",
    "def calculate(dataFile, col_num):\n",
    "    \"\"\"\n",
    "    Input Parameters:\n",
    "        dataFile: The dataset file.\n",
    "        ithAttre: The ith attribute for which the various properties must be calculated.\n",
    "\n",
    "    Default value of 0,infinity,-infinity are assigned to all the variables as required. \n",
    "    \"\"\"\n",
    "    numObj, minValue, maxValue, mean, stdev, Q1, median, Q3, IQR = [0,\"inf\",\"-inf\",0,0,0,0,0,0]\n",
    "    #YOUR TASK: Write code to assign the values to the respective variables.\n",
    "\n",
    "    # your code here\n",
    "    \n",
    "    # Load the dataset\n",
    "    df = pd.read_csv(dataFile)\n",
    "    \n",
    "    # Extract the specified column\n",
    "    col_data = df.iloc[:, col_num]\n",
    "    \n",
    "    # Calculate the required statistics\n",
    "    numObj = col_data.count()\n",
    "    minValue = col_data.min()\n",
    "    maxValue = col_data.max()\n",
    "    mean = col_data.mean()\n",
    "    stdev = col_data.std()\n",
    "    Q1 = col_data.quantile(0.25)\n",
    "    median = col_data.median()\n",
    "    Q3 = col_data.quantile(0.75)\n",
    "    IQR = Q3 - Q1\n",
    "    \n",
    "    return numObj, minValue, maxValue, mean, stdev, Q1, median, Q3, IQR\n",
    "\n"
   ]
  },
  {
   "cell_type": "code",
   "execution_count": 3,
   "metadata": {
    "deletable": false,
    "editable": false,
    "nbgrader": {
     "cell_type": "code",
     "checksum": "c7f94ae508626c1b3a61c063815aaf8c",
     "grade": true,
     "grade_id": "cell-76c2821773e901c7",
     "locked": true,
     "points": 10,
     "schema_version": 3,
     "solution": false,
     "task": false
    }
   },
   "outputs": [
    {
     "data": {
      "text/plain": [
       "'\\nThis cell has hidden test cases that will run after you submit your assignment. \\nYou can troubleshoot using the unit tests we shared below.\\n'"
      ]
     },
     "execution_count": 3,
     "metadata": {},
     "output_type": "execute_result"
    }
   ],
   "source": [
    "'''\n",
    "This cell has hidden test cases that will run after you submit your assignment. \n",
    "You can troubleshoot using the unit tests we shared below.\n",
    "'''\n"
   ]
  },
  {
   "cell_type": "markdown",
   "metadata": {
    "deletable": false,
    "editable": false,
    "nbgrader": {
     "cell_type": "markdown",
     "checksum": "41c6c8cfdb3dd4665f23880c6638c40b",
     "grade": false,
     "grade_id": "cell-a316e4da00e10e73",
     "locked": true,
     "schema_version": 3,
     "solution": false,
     "task": false
    }
   },
   "source": [
    "### Here are the unit tests. You don't need to modify them. Simply execute the cell and observe the output."
   ]
  },
  {
   "cell_type": "code",
   "execution_count": 4,
   "metadata": {
    "deletable": false,
    "editable": false,
    "nbgrader": {
     "cell_type": "code",
     "checksum": "5f6b0ed12ab5095e8f3e0ba0360595f3",
     "grade": false,
     "grade_id": "cell-b85338dde84c8358",
     "locked": true,
     "schema_version": 3,
     "solution": false,
     "task": false
    }
   },
   "outputs": [
    {
     "name": "stderr",
     "output_type": "stream",
     "text": [
      ".\n",
      "----------------------------------------------------------------------\n",
      "Ran 1 test in 0.018s\n",
      "\n",
      "OK\n"
     ]
    },
    {
     "data": {
      "text/plain": [
       "<unittest.runner.TextTestResult run=1 errors=0 failures=0>"
      ]
     },
     "execution_count": 4,
     "metadata": {},
     "output_type": "execute_result"
    }
   ],
   "source": [
    "import unittest\n",
    "\n",
    "class TestKnn(unittest.TestCase):\n",
    "    def setUp(self):\n",
    "        self.loc = \"data/dataset.csv\"\n",
    "        file = open('data/testing', 'rb')\n",
    "        self.data = pickle.load(file)\n",
    "        file.close()\n",
    "        \n",
    "    def test0(self):\n",
    "        \"\"\"\n",
    "        Test the label counter \n",
    "        \"\"\"\n",
    "        self.column = self.data[0]\n",
    "        result = calculate(self.loc,self.column)\n",
    "        self.assertEqual(result[0],self.data[1][0])\n",
    "        self.assertAlmostEqual(result[1],self.data[1][1], places = 3)\n",
    "        self.assertAlmostEqual(result[2],self.data[1][2], places = 3)\n",
    "        self.assertAlmostEqual(result[3],self.data[1][3], places = 3)\n",
    "        self.assertAlmostEqual(result[4],self.data[1][4], places = 3)\n",
    "        self.assertAlmostEqual(result[5],self.data[1][5], places = 3)\n",
    "        self.assertAlmostEqual(result[6],self.data[1][6], places = 3)\n",
    "        self.assertAlmostEqual(result[7],self.data[1][7], places = 3)\n",
    "        self.assertAlmostEqual(result[8],self.data[1][8], places = 3)\n",
    "   \n",
    "tests = TestKnn()\n",
    "tests_to_run = unittest.TestLoader().loadTestsFromModule(tests)\n",
    "unittest.TextTestRunner().run(tests_to_run)"
   ]
  },
  {
   "cell_type": "markdown",
   "metadata": {
    "deletable": false,
    "editable": false,
    "nbgrader": {
     "cell_type": "markdown",
     "checksum": "34f3d03ba700c7bd8259f9009af2ec6b",
     "grade": false,
     "grade_id": "cell-5c74053a7c051493",
     "locked": true,
     "schema_version": 3,
     "solution": false,
     "task": false
    }
   },
   "source": [
    "### Problem 2 - [10 Points] \n",
    "***\n",
    "The helper function ```func()``` below will be used to help generate a scatter plot of the columns CO on the x-axis and AFDP on the y-axis and should return the following:\n",
    "\n",
    "- Return the x values, y values, title, x-label and the y-label\n",
    "\n",
    "Notes:\n",
    "\n",
    "- The dataset is available in \"./data/dataset.csv\"\n",
    "- Hidden tests are run against x and y values. These should be array-like objects (list or series).\n",
    "\n",
    "Use the cell below to add your code."
   ]
  },
  {
   "cell_type": "code",
   "execution_count": 5,
   "metadata": {
    "ExecuteTime": {
     "end_time": "2020-09-02T03:17:10.969897Z",
     "start_time": "2020-09-02T03:17:10.627909Z"
    },
    "deletable": false,
    "nbgrader": {
     "cell_type": "code",
     "checksum": "69d1d36142b5311556de86fe9882cbd8",
     "grade": false,
     "grade_id": "cell-d472e977a06d29e2",
     "locked": false,
     "schema_version": 3,
     "solution": true,
     "task": false
    }
   },
   "outputs": [],
   "source": [
    "# Scatter plot of columns with attributes CO on x-axis and AFDP on y-axis\n",
    "# Return the x values, y values, title, x-label and the y-label\n",
    "# The dataset is available in \"./data/dataset.csv\"\n",
    "import pandas as pd\n",
    "import numpy as np\n",
    "import matplotlib.pyplot as plt\n",
    "\n",
    "def func():\n",
    "    \n",
    "    '''\n",
    "        Output: x, y, title, x-label, y-label\n",
    "    '''\n",
    "    # Load the dataset\n",
    "    df = pd.read_csv(\"./data/dataset.csv\")\n",
    "    \n",
    "    # Extract the required columns\n",
    "    x = df['CO']\n",
    "    y = df['AFDP']\n",
    "    \n",
    "    # Define plot labels and title\n",
    "    title = 'Scatter Plot of CO vs AFDP'\n",
    "    x_label = 'CO'\n",
    "    y_label = 'AFDP'\n",
    "    \n",
    "    return x, y, title, x_label, y_label"
   ]
  },
  {
   "attachments": {
    "scatter_plot.png": {
     "image/png": "[encoded data removed]"
    }
   },
   "cell_type": "markdown",
   "metadata": {
    "deletable": false,
    "editable": false,
    "nbgrader": {
     "cell_type": "markdown",
     "checksum": "081a77b981422436c6fcb50fee3bd44e",
     "grade": false,
     "grade_id": "cell-f720e789d94f4fcf",
     "locked": true,
     "schema_version": 3,
     "solution": false,
     "task": false
    }
   },
   "source": [
    "## The cell below can be used to test our scatter plot. You don't need to modify this. Simply execute the cell below and observe the output.\n",
    "Once the ```func()``` function above has been completed we can test it by running the cell below. Running the cell below should simply output a scatter plot based on your ```func()``` function. Your scatter plot may not look exactly the same, but may look something like this:\n",
    "\n",
    "![scatter_plot.png](attachment:scatter_plot.png)"
   ]
  },
  {
   "cell_type": "code",
   "execution_count": 6,
   "metadata": {
    "deletable": false,
    "editable": false,
    "nbgrader": {
     "cell_type": "code",
     "checksum": "aafa538d07c1f639b02fb1dc9b0c9187",
     "grade": false,
     "grade_id": "cell-30d6e819a3a54451",
     "locked": true,
     "schema_version": 3,
     "solution": false,
     "task": false
    }
   },
   "outputs": [
    {
     "data": {
      "text/plain": [
       "Text(0, 0.5, 'AFDP')"
      ]
     },
     "execution_count": 6,
     "metadata": {},
     "output_type": "execute_result"
    },
    {
     "data": {
      "image/png": "[encoded data removed]",
      "text/plain": [
       "<Figure size 432x288 with 1 Axes>"
      ]
     },
     "metadata": {
      "needs_background": "light"
     },
     "output_type": "display_data"
    }
   ],
   "source": [
    "# Testing the func() function\n",
    "x, y, title, x_label, y_label = func()\n",
    "plt.scatter(x, y)\n",
    "plt.title(title)\n",
    "plt.xlabel(x_label)\n",
    "plt.ylabel(y_label)"
   ]
  },
  {
   "cell_type": "code",
   "execution_count": 7,
   "metadata": {
    "deletable": false,
    "editable": false,
    "nbgrader": {
     "cell_type": "code",
     "checksum": "a961c473fe7a528b4df0bef11d15bcf6",
     "grade": true,
     "grade_id": "cell-9b636ed7d9b3248d",
     "locked": true,
     "points": 10,
     "schema_version": 3,
     "solution": false,
     "task": false
    }
   },
   "outputs": [
    {
     "data": {
      "text/plain": [
       "'\\nThis cell has hidden test cases that will run after you submit your assignment. \\nYou can troubleshoot by calling the function and checking return types and values.\\n'"
      ]
     },
     "execution_count": 7,
     "metadata": {},
     "output_type": "execute_result"
    }
   ],
   "source": [
    "'''\n",
    "This cell has hidden test cases that will run after you submit your assignment. \n",
    "You can troubleshoot by calling the function and checking return types and values.\n",
    "'''\n"
   ]
  },
  {
   "cell_type": "code",
   "execution_count": null,
   "metadata": {},
   "outputs": [],
   "source": []
  }
 ],
 "metadata": {
  "hide_input": false,
  "kernelspec": {
   "display_name": "Python 3",
   "language": "python",
   "name": "python3"
  },
  "language_info": {
   "codemirror_mode": {
    "name": "ipython",
    "version": 3
   },
   "file_extension": ".py",
   "mimetype": "text/x-python",
   "name": "python",
   "nbconvert_exporter": "python",
   "pygments_lexer": "ipython3",
   "version": "3.7.6"
  },
  "latex_envs": {
   "LaTeX_envs_menu_present": true,
   "autoclose": false,
   "autocomplete": true,
   "bibliofile": "biblio.bib",
   "cite_by": "apalike",
   "current_citInitial": 1,
   "eqLabelWithNumbers": true,
   "eqNumInitial": 1,
   "hotkeys": {
    "equation": "Ctrl-E",
    "itemize": "Ctrl-I"
   },
   "labels_anchors": false,
   "latex_user_defs": false,
   "report_style_numbering": false,
   "user_envs_cfg": false
  },
  "nbTranslate": {
   "displayLangs": [
    "*"
   ],
   "hotkey": "alt-t",
   "langInMainMenu": true,
   "sourceLang": "en",
   "targetLang": "fr",
   "useGoogleTranslate": true
  },
  "toc": {
   "base_numbering": 1,
   "nav_menu": {},
   "number_sections": true,
   "sideBar": true,
   "skip_h1_title": false,
   "title_cell": "Table of Contents",
   "title_sidebar": "Contents",
   "toc_cell": false,
   "toc_position": {},
   "toc_section_display": true,
   "toc_window_display": false
  },
  "varInspector": {
   "cols": {
    "lenName": 16,
    "lenType": 16,
    "lenVar": 40
   },
   "kernels_config": {
    "python": {
     "delete_cmd_postfix": "",
     "delete_cmd_prefix": "del ",
     "library": "var_list.py",
     "varRefreshCmd": "print(var_dic_list())"
    },
    "r": {
     "delete_cmd_postfix": ") ",
     "delete_cmd_prefix": "rm(",
     "library": "var_list.r",
     "varRefreshCmd": "cat(var_dic_list()) "
    }
   },
   "types_to_exclude": [
    "module",
    "function",
    "builtin_function_or_method",
    "instance",
    "_Feature"
   ],
   "window_display": false
  }
 },
 "nbformat": 4,
 "nbformat_minor": 2
}
