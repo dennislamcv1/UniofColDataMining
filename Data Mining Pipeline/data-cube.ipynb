{
 "cells": [
  {
   "cell_type": "markdown",
   "metadata": {
    "deletable": false,
    "editable": false,
    "nbgrader": {
     "cell_type": "markdown",
     "checksum": "0ce54a55e28b4346d66eb8971a0efd04",
     "grade": false,
     "grade_id": "cell-23b88609ada06725",
     "locked": true,
     "schema_version": 3,
     "solution": false,
     "task": false
    }
   },
   "source": [
    "# Data Cube\n",
    "\n",
    "**Name**: \n",
    "\n",
    "In this assignment, you would be reading a dataset with multiple attributes and visualize 3 attributes from the dataset in the form a data cube. More information is provided below about the dataset and your tasks for this assignment. Remember that you are encouraged to discuss the problems with your instructors and classmates, but **you must write all code and solutions on your own**."
   ]
  },
  {
   "cell_type": "markdown",
   "metadata": {
    "deletable": false,
    "editable": false,
    "nbgrader": {
     "cell_type": "markdown",
     "checksum": "25b7ad5068a55d16624ba0df1d8e1288",
     "grade": false,
     "grade_id": "cell-ef95756811ebf0d7",
     "locked": true,
     "schema_version": 3,
     "solution": false,
     "task": false
    }
   },
   "source": [
    "The rules to be followed for this assignment are:\n",
    "\n",
    "- Do **NOT** load or use any Python packages that are not available in Anaconda 3.6. \n",
    "- Some problems with code may be autograded.  If we provide a function or class API **do not** change it.\n",
    "- Do not change the location of the data or data directory.  Use only relative paths to access the data. "
   ]
  },
  {
   "cell_type": "markdown",
   "metadata": {
    "deletable": false,
    "editable": false,
    "nbgrader": {
     "cell_type": "markdown",
     "checksum": "9eb3f9bc8a54b72b1656d8472018b985",
     "grade": false,
     "grade_id": "cell-8ea67f816de8e70d",
     "locked": true,
     "schema_version": 3,
     "solution": false,
     "task": false
    }
   },
   "source": [
    "# Dataset Instructions\n",
    "\n",
    "- The dataset contains daily product sales data for 5 years across retail stores.\n",
    "- The dataset contains the following attributes: year, month, day, country, state, city, store, category, product, sales.\n",
    "- The dataset is available at this location \"dataset/dataset.csv\" from the current path. \n",
    "- A pandas.head() should give you a general idea about the dataset structure and information about the column names as referenced above."
   ]
  },
  {
   "cell_type": "code",
   "execution_count": null,
   "metadata": {
    "ExecuteTime": {
     "end_time": "2021-03-15T01:20:56.308585Z",
     "start_time": "2021-03-15T01:20:55.839015Z"
    }
   },
   "outputs": [],
   "source": [
    "import pandas as pd\n",
    "import numpy as np\n",
    "from matplotlib import pyplot\n",
    "from mpl_toolkits.mplot3d import Axes3D"
   ]
  },
  {
   "cell_type": "markdown",
   "metadata": {},
   "source": [
    "# Assignment Instructions\n",
    "\n",
    "- Section 1 of the assignment involves aggregating product sales by the year, country and product category.\n",
    "- Section 2 of the assignment involves plotting values from the dataset to visualize them in the form of a data cube.\n"
   ]
  },
  {
   "cell_type": "markdown",
   "metadata": {
    "deletable": false,
    "editable": false,
    "nbgrader": {
     "cell_type": "markdown",
     "checksum": "fd42d921c158fb75082bcd154fe9c666",
     "grade": false,
     "grade_id": "cell-ebbabcd7a9030365",
     "locked": true,
     "schema_version": 3,
     "solution": false,
     "task": false
    }
   },
   "source": [
    "# Aggregate by year\n",
    "\n",
    "- Aggregate the product sales by year. Find and return the total sales made in the year from the dataset.\n",
    "- Return the sales information in the form of a python dictionary where the key is the year and the value is the total sales for that year."
   ]
  },
  {
   "cell_type": "code",
   "execution_count": null,
   "metadata": {
    "deletable": false,
    "nbgrader": {
     "cell_type": "code",
     "checksum": "7cb199d896ad73dd2ab480af9546d137",
     "grade": false,
     "grade_id": "cell-f2943a5216c6a589",
     "locked": false,
     "schema_version": 3,
     "solution": true,
     "task": false
    }
   },
   "outputs": [],
   "source": [
    "def aggregate_by_year():\n",
    "    \n",
    "    # Reading dataset\n",
    "    df = pd.read_csv('./dataset/dataset.csv')\n",
    "    d = dict()\n",
    "    \n",
    "    # your code here\n",
    "    \n",
    "    \n",
    "    return d"
   ]
  },
  {
   "cell_type": "code",
   "execution_count": null,
   "metadata": {
    "deletable": false,
    "editable": false,
    "nbgrader": {
     "cell_type": "code",
     "checksum": "dcac83660e2ef14378108d32628fe765",
     "grade": true,
     "grade_id": "cell-ad65a81d29463368",
     "locked": true,
     "points": 4,
     "schema_version": 3,
     "solution": false,
     "task": false
    }
   },
   "outputs": [],
   "source": []
  },
  {
   "cell_type": "markdown",
   "metadata": {
    "deletable": false,
    "editable": false,
    "nbgrader": {
     "cell_type": "markdown",
     "checksum": "8b35020b97d7c1917e61216cd44dd86b",
     "grade": false,
     "grade_id": "cell-cc9cd1d0b78197d0",
     "locked": true,
     "schema_version": 3,
     "solution": false,
     "task": false
    }
   },
   "source": [
    "# Aggregate by country\n",
    "\n",
    "- Aggregate the product sales by country. Find and return the total sales made in each country from the dataset.\n",
    "- Return the sales information in the form of a python dictionary where the key is the country and the value is the total sales for that country."
   ]
  },
  {
   "cell_type": "code",
   "execution_count": null,
   "metadata": {
    "deletable": false,
    "nbgrader": {
     "cell_type": "code",
     "checksum": "08ba257faf46c253c1ff68d4500de4e5",
     "grade": false,
     "grade_id": "cell-d3e745b9bfb4ac60",
     "locked": false,
     "schema_version": 3,
     "solution": true,
     "task": false
    }
   },
   "outputs": [],
   "source": [
    "def aggregate_by_country():\n",
    "    \n",
    "    # Reading dataset\n",
    "    df = pd.read_csv('./dataset/dataset.csv')\n",
    "    d = dict()\n",
    "    \n",
    "    # your code here\n",
    "    \n",
    "    \n",
    "    return d"
   ]
  },
  {
   "cell_type": "code",
   "execution_count": null,
   "metadata": {
    "deletable": false,
    "editable": false,
    "nbgrader": {
     "cell_type": "code",
     "checksum": "b8269d7238c75207b924e15f579379d0",
     "grade": true,
     "grade_id": "cell-bff522363365bf68",
     "locked": true,
     "points": 3,
     "schema_version": 3,
     "solution": false,
     "task": false
    }
   },
   "outputs": [],
   "source": []
  },
  {
   "cell_type": "markdown",
   "metadata": {
    "deletable": false,
    "editable": false,
    "nbgrader": {
     "cell_type": "markdown",
     "checksum": "d015fa820852970f7e38478f0f0274b6",
     "grade": false,
     "grade_id": "cell-d90c3a25d0d9f650",
     "locked": true,
     "schema_version": 3,
     "solution": false,
     "task": false
    }
   },
   "source": [
    "# Aggregate by category\n",
    "\n",
    "- Aggregate the product sales by category. Find and return the total sales made across each country from the dataset.\n",
    "- Return the sales information in the form of a python dictionary where the key is the product category and the value is the total sales for that category."
   ]
  },
  {
   "cell_type": "code",
   "execution_count": null,
   "metadata": {
    "deletable": false,
    "nbgrader": {
     "cell_type": "code",
     "checksum": "57500d44d7461de979a65fd6c25d0c05",
     "grade": false,
     "grade_id": "cell-ee2b00cbb05a3d4b",
     "locked": false,
     "schema_version": 3,
     "solution": true,
     "task": false
    }
   },
   "outputs": [],
   "source": [
    "def aggregate_by_category():\n",
    "    \n",
    "    # Reading dataset\n",
    "    df = pd.read_csv('./dataset/dataset.csv')\n",
    "    d = dict()\n",
    "    \n",
    "    # your code here\n",
    "    \n",
    "    \n",
    "    return d"
   ]
  },
  {
   "cell_type": "code",
   "execution_count": null,
   "metadata": {
    "deletable": false,
    "editable": false,
    "nbgrader": {
     "cell_type": "code",
     "checksum": "4fc70bc88473c748ead94e5e82647179",
     "grade": true,
     "grade_id": "cell-e42f9b32846aded9",
     "locked": true,
     "points": 3,
     "schema_version": 3,
     "solution": false,
     "task": false
    }
   },
   "outputs": [],
   "source": []
  },
  {
   "cell_type": "markdown",
   "metadata": {},
   "source": [
    "# Section 2: Visualizing Product Sales data\n",
    "\n",
    "- Visualize the dataset in the form of a data cube where the year is on the x-axis, product category on the y-axis and sales information on the z-axis.\n",
    "- Plot a data cube and return your x, y and z axes as python lists in the plot_data_cube function. "
   ]
  },
  {
   "cell_type": "code",
   "execution_count": null,
   "metadata": {
    "ExecuteTime": {
     "end_time": "2021-03-15T01:28:07.630375Z",
     "start_time": "2021-03-15T01:28:07.622374Z"
    },
    "deletable": false,
    "nbgrader": {
     "cell_type": "code",
     "checksum": "9f38b878346b79cc93e3dc3ac3ada05a",
     "grade": false,
     "grade_id": "cube-plot",
     "locked": false,
     "schema_version": 3,
     "solution": true,
     "task": false
    }
   },
   "outputs": [],
   "source": [
    "def plot_data_cube(): \n",
    "    '''\n",
    "        Output: x, y, z\n",
    "    '''\n",
    "    # Reading dataset\n",
    "    df = pd.read_csv(\"./dataset/dataset.csv\")\n",
    "    x, y, z = [], [], []\n",
    "    # your code here\n",
    "    \n",
    "    return x,y,z"
   ]
  },
  {
   "cell_type": "code",
   "execution_count": null,
   "metadata": {
    "ExecuteTime": {
     "end_time": "2021-03-15T01:28:34.460320Z",
     "start_time": "2021-03-15T01:28:34.436931Z"
    },
    "deletable": false,
    "editable": false,
    "nbgrader": {
     "cell_type": "code",
     "checksum": "075c260d5f5bd839fda27de9cc48dd24",
     "grade": true,
     "grade_id": "t-cube-plot",
     "locked": true,
     "points": 10,
     "schema_version": 3,
     "solution": false,
     "task": false
    }
   },
   "outputs": [],
   "source": []
  }
 ],
 "metadata": {
  "hide_input": false,
  "kernelspec": {
   "display_name": "Python 3",
   "language": "python",
   "name": "python3"
  },
  "language_info": {
   "codemirror_mode": {
    "name": "ipython",
    "version": 3
   },
   "file_extension": ".py",
   "mimetype": "text/x-python",
   "name": "python",
   "nbconvert_exporter": "python",
   "pygments_lexer": "ipython3",
   "version": "3.7.6"
  },
  "latex_envs": {
   "LaTeX_envs_menu_present": true,
   "autoclose": false,
   "autocomplete": true,
   "bibliofile": "biblio.bib",
   "cite_by": "apalike",
   "current_citInitial": 1,
   "eqLabelWithNumbers": true,
   "eqNumInitial": 1,
   "hotkeys": {
    "equation": "Ctrl-E",
    "itemize": "Ctrl-I"
   },
   "labels_anchors": false,
   "latex_user_defs": false,
   "report_style_numbering": false,
   "user_envs_cfg": false
  },
  "nbTranslate": {
   "displayLangs": [
    "*"
   ],
   "hotkey": "alt-t",
   "langInMainMenu": true,
   "sourceLang": "en",
   "targetLang": "fr",
   "useGoogleTranslate": true
  },
  "toc": {
   "base_numbering": 1,
   "nav_menu": {},
   "number_sections": true,
   "sideBar": true,
   "skip_h1_title": false,
   "title_cell": "Table of Contents",
   "title_sidebar": "Contents",
   "toc_cell": false,
   "toc_position": {},
   "toc_section_display": true,
   "toc_window_display": false
  },
  "varInspector": {
   "cols": {
    "lenName": 16,
    "lenType": 16,
    "lenVar": 40
   },
   "kernels_config": {
    "python": {
     "delete_cmd_postfix": "",
     "delete_cmd_prefix": "del ",
     "library": "var_list.py",
     "varRefreshCmd": "print(var_dic_list())"
    },
    "r": {
     "delete_cmd_postfix": ") ",
     "delete_cmd_prefix": "rm(",
     "library": "var_list.r",
     "varRefreshCmd": "cat(var_dic_list()) "
    }
   },
   "types_to_exclude": [
    "module",
    "function",
    "builtin_function_or_method",
    "instance",
    "_Feature"
   ],
   "window_display": false
  }
 },
 "nbformat": 4,
 "nbformat_minor": 2
}
