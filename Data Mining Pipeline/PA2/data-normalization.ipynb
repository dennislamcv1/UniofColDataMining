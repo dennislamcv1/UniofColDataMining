{
 "cells": [
  {
   "cell_type": "markdown",
   "metadata": {
    "deletable": false,
    "editable": false,
    "nbgrader": {
     "cell_type": "markdown",
     "checksum": "45afe8e1386bb813621db67c1e85d2c1",
     "grade": false,
     "grade_id": "cell-8a70a56233894d42",
     "locked": true,
     "schema_version": 3,
     "solution": false,
     "task": false
    }
   },
   "source": [
    "# Homework 2\n",
    "***\n",
    "**Name**: $<$insert name here$>$ \n",
    "***\n",
    "\n",
    "Remember that you are encouraged to discuss the problems with your instructors and classmates, but **you must write all code and solutions on your own**."
   ]
  },
  {
   "cell_type": "markdown",
   "metadata": {
    "deletable": false,
    "editable": false,
    "nbgrader": {
     "cell_type": "markdown",
     "checksum": "1b98fbdff894309fe3937b7d4d55eb34",
     "grade": false,
     "grade_id": "cell-d3925f1a2ed0ba39",
     "locked": true,
     "schema_version": 3,
     "solution": false,
     "task": false
    }
   },
   "source": [
    "The rules to be followed for the assignment are:\n",
    "\n",
    "- Do **NOT** load additional packages beyond what we've shared in the cells below. \n",
    "- Some problems with code may be autograded.  If we provide a function or class API **do not** change it.\n",
    "- Do not change the location of the data or data directory.  Use only relative paths to access the data. "
   ]
  },
  {
   "cell_type": "code",
   "execution_count": 1,
   "metadata": {
    "ExecuteTime": {
     "end_time": "2020-09-10T01:22:03.370195Z",
     "start_time": "2020-09-10T01:22:02.356211Z"
    },
    "deletable": false,
    "editable": false,
    "nbgrader": {
     "cell_type": "code",
     "checksum": "728bb8c12435a7d8af07857e799b9025",
     "grade": false,
     "grade_id": "cell-76950cd59a275b9b",
     "locked": true,
     "schema_version": 3,
     "solution": false,
     "task": false
    }
   },
   "outputs": [],
   "source": [
    "import pandas as pd\n",
    "import numpy as np\n",
    "import pickle\n",
    "from pathlib import Path\n",
    "import math"
   ]
  },
  {
   "cell_type": "markdown",
   "metadata": {
    "deletable": false,
    "editable": false,
    "nbgrader": {
     "cell_type": "markdown",
     "checksum": "3c78a88f5de1e17ba4a6a9bc1ce64784",
     "grade": false,
     "grade_id": "cell-eeb3bd05ca5a2672",
     "locked": true,
     "schema_version": 3,
     "solution": false,
     "task": false
    }
   },
   "source": [
    "### Problem 1\n",
    "***\n",
    "\n",
    "There are two functions that need to be completed:\n",
    "\n",
    "#### normalization(fname, attr, normType)\n",
    "\n",
    "- This function takes in the location of the data file, the attribute that has to be normalised (one of the values from 'Open','High','Low','Close','Volume', given as column indices) and the type of normalization to be performed ('min_max' or 'z_score')\n",
    "\n",
    "- Based on the normalisation type that is mentioned, you will have to apply the appropriate formula and return a dictionary where key = original value in the dataset, value = normalised value\n",
    "\n",
    "- A sample dataset has been provided to you at this location \"./data/HistoricalQuotes.csv\". Use this dataset to test the functionality you are building.\n",
    "\n",
    "#### correlation (fname1, attr1, fname2, attr2)\n",
    "\n",
    "- This function takes in the location of the first data file, the attribute that has to be used in the first file, the location of the second data file and the attribute that has to be used in the second file.\n",
    "\n",
    "- This function has to calculate the correlation coefficient between the two attributes mentioned in the two files.\n",
    "\n",
    "- Two Sample datasets have been provided to you in \"./data/test1.csv\" and \"./data/test2.csv\" respectively.\n",
    "\n",
    "- The two sample files have the following attributes 'Open','High','Last','Low','Volume'. Use these two sample files to test the functionality you are building.\n",
    "\n",
    "Note:\n",
    "- If the test case fails, one way to debug is to see the output of the testing data and comparing it to your output.\n",
    "- Initially the test case will be failed as there is no code in the below two functions."
   ]
  },
  {
   "cell_type": "code",
   "execution_count": 2,
   "metadata": {
    "ExecuteTime": {
     "end_time": "2020-09-10T01:24:33.428213Z",
     "start_time": "2020-09-10T01:24:33.423898Z"
    },
    "deletable": false,
    "nbgrader": {
     "cell_type": "code",
     "checksum": "5bc7e76c2c1a5ce1942a310ff8c6ce8f",
     "grade": false,
     "grade_id": "normalization",
     "locked": false,
     "schema_version": 3,
     "solution": true,
     "task": false
    }
   },
   "outputs": [],
   "source": [
    "def normalization (fname, attr, normType):\n",
    "    '''\n",
    "    Input Parameters:\n",
    "        fname: Name of the csv file contiaining historical quotes\n",
    "        attr: The attribute to be normalized \n",
    "        normType: The type of normalization \n",
    "    Output:\n",
    "        a dictionary where each key is the original column value and each value is the normalised column value. \n",
    "    '''\n",
    "    df = pd.read_csv(fname)\n",
    "    column_name = df.columns[attr]\n",
    "    data = df.iloc[:, attr]\n",
    "\n",
    "    if normType == 'min_max':\n",
    "        min_val = data.min()\n",
    "        max_val = data.max()\n",
    "        normalized_data = (data - min_val) / (max_val - min_val)\n",
    "    elif normType == 'z_score':\n",
    "        mean_val = data.mean()\n",
    "        std_val = data.std()\n",
    "        normalized_data = (data - mean_val) / std_val\n",
    "    else:\n",
    "        raise ValueError(\"normType must be either 'min_max' or 'z_score'\")\n",
    "    \n",
    "    return dict(zip(data, normalized_data))"
   ]
  },
  {
   "cell_type": "code",
   "execution_count": 3,
   "metadata": {
    "deletable": false,
    "editable": false,
    "nbgrader": {
     "cell_type": "code",
     "checksum": "2e0d7d290878957d9535e285ed9ba393",
     "grade": true,
     "grade_id": "test_normalization",
     "locked": true,
     "points": 3,
     "schema_version": 3,
     "solution": false,
     "task": false
    }
   },
   "outputs": [
    {
     "data": {
      "text/plain": [
       "'\\nThis cell has hidden test cases that will run after you submit your assignment. \\nYou can troubleshoot using the unit tests we shared below.\\n'"
      ]
     },
     "execution_count": 3,
     "metadata": {},
     "output_type": "execute_result"
    }
   ],
   "source": [
    "'''\n",
    "This cell has hidden test cases that will run after you submit your assignment. \n",
    "You can troubleshoot using the unit tests we shared below.\n",
    "'''\n"
   ]
  },
  {
   "cell_type": "code",
   "execution_count": 4,
   "metadata": {
    "ExecuteTime": {
     "end_time": "2020-09-10T01:24:55.210777Z",
     "start_time": "2020-09-10T01:24:55.201476Z"
    },
    "deletable": false,
    "nbgrader": {
     "cell_type": "code",
     "checksum": "862c679b0e1c220375a75868ae05a503",
     "grade": false,
     "grade_id": "correlation",
     "locked": false,
     "schema_version": 3,
     "solution": true,
     "task": false
    }
   },
   "outputs": [],
   "source": [
    "def correlation (fname1, attr1, fname2, attr2):\n",
    "    '''\n",
    "    Input Parameters:\n",
    "        fname1: name of the first csv file containing historical quotes\n",
    "        attr1: The attribute to consider in the first csv file (fname1)\n",
    "        fname2: name of the second csv file containing historical quotes\n",
    "        attr2: The attribute to consider in the second csv file (fname2)\n",
    "        \n",
    "    Output:\n",
    "        correlation coefficient between attr1 in fname1 and attr2 in fname2\n",
    "    '''\n",
    "    \n",
    "    df1 = pd.read_csv(fname1)\n",
    "    df2 = pd.read_csv(fname2)\n",
    "    \n",
    "    data1 = df1.iloc[:, attr1]\n",
    "    data2 = df2.iloc[:, attr2]\n",
    "    \n",
    "    correlation_coefficient = data1.corr(data2)\n",
    "    \n",
    "    return correlation_coefficient\n"
   ]
  },
  {
   "cell_type": "code",
   "execution_count": 5,
   "metadata": {
    "deletable": false,
    "editable": false,
    "nbgrader": {
     "cell_type": "code",
     "checksum": "6f543a7eb3374de561e6640f3101fb49",
     "grade": true,
     "grade_id": "test_correlation",
     "locked": true,
     "points": 3,
     "schema_version": 3,
     "solution": false,
     "task": false
    }
   },
   "outputs": [
    {
     "data": {
      "text/plain": [
       "'\\nThis cell has hidden test cases that will run after you submit your assignment. \\nYou can troubleshoot using the unit tests we shared below.\\n'"
      ]
     },
     "execution_count": 5,
     "metadata": {},
     "output_type": "execute_result"
    }
   ],
   "source": [
    "'''\n",
    "This cell has hidden test cases that will run after you submit your assignment. \n",
    "You can troubleshoot using the unit tests we shared below.\n",
    "'''\n"
   ]
  },
  {
   "cell_type": "code",
   "execution_count": 6,
   "metadata": {
    "ExecuteTime": {
     "end_time": "2020-09-10T01:28:36.101216Z",
     "start_time": "2020-09-10T01:28:36.049564Z"
    },
    "deletable": false,
    "editable": false,
    "nbgrader": {
     "cell_type": "code",
     "checksum": "e26989a1a0f566bbde748e091e86193c",
     "grade": false,
     "grade_id": "cell-073dcfbad9049939",
     "locked": true,
     "schema_version": 3,
     "solution": false,
     "task": false
    }
   },
   "outputs": [
    {
     "name": "stderr",
     "output_type": "stream",
     "text": [
      "...\n",
      "----------------------------------------------------------------------\n",
      "Ran 3 tests in 0.034s\n",
      "\n",
      "OK\n"
     ]
    },
    {
     "data": {
      "text/plain": [
       "<unittest.runner.TextTestResult run=3 errors=0 failures=0>"
      ]
     },
     "execution_count": 6,
     "metadata": {},
     "output_type": "execute_result"
    }
   ],
   "source": [
    "import unittest\n",
    "\n",
    "class TestKnn(unittest.TestCase):\n",
    "    def setUp(self):\n",
    "        self.loc1 = \"data/test1.csv\"\n",
    "        self.loc2 = \"data/test2.csv\"\n",
    "        file = open('data/testing_normalization', 'rb')\n",
    "        self.data_normalization = pickle.load(file)\n",
    "        file.close()\n",
    "        file = open('data/testing_correlation', 'rb')\n",
    "        self.data_correlation = pickle.load(file)\n",
    "        file.close()\n",
    "        file = open('data/testing_zscore', 'rb')\n",
    "        self.zscore = pickle.load(file)\n",
    "        \n",
    "    def test0(self):\n",
    "        \"\"\"\n",
    "        Test min_max normalization \n",
    "        \"\"\"\n",
    "        result = normalization(\"./data/normalization_test_data.csv\", 0, \"min_max\")\n",
    "        for key,value in self.data_normalization.items():\n",
    "            self.assertAlmostEqual(result[key],value, places = 1)\n",
    "            \n",
    "    \n",
    "    def test1(self):\n",
    "        \"\"\"\n",
    "        Test zcore normalization\n",
    "        \"\"\"\n",
    "        result = normalization(\"./data/normalization_test_data.csv\", 1, \"z_score\")\n",
    "        for key, value in self.zscore.items():\n",
    "            self.assertAlmostEqual(result[key], value, places = 1)\n",
    "    \n",
    "    def test2(self):\n",
    "        \"\"\"\n",
    "        Test correlation \n",
    "        \"\"\"\n",
    "        result = correlation('./data/correlation_test_data.csv', 0, \"./data/correlation_test_data.csv\", 0)\n",
    "        self.assertAlmostEqual(result,self.data_correlation, places = 1)\n",
    "       \n",
    "   \n",
    "tests = TestKnn()\n",
    "tests_to_run = unittest.TestLoader().loadTestsFromModule(tests)\n",
    "unittest.TextTestRunner().run(tests_to_run)"
   ]
  },
  {
   "cell_type": "markdown",
   "metadata": {
    "deletable": false,
    "editable": false,
    "nbgrader": {
     "cell_type": "markdown",
     "checksum": "288051f75f190c1b29700f8c866f0c4a",
     "grade": false,
     "grade_id": "cell-1d57af814dafe68f",
     "locked": true,
     "schema_version": 3,
     "solution": false,
     "task": false
    }
   },
   "source": [
    "### Problem 2\n",
    "***\n",
    "\n",
    "There are 4 functions that need to be completed:\n",
    "\n",
    "1. For each of the graphs, the input function parameters and the expected output has been mentioned below.\n",
    "2. Use the dataset provided in \"./data/HistoricalQuotes.csv\" to plot the below graphs.\n",
    "3. Instructions have been provided within each function regarding which attributes to choose from.\n",
    "4. The dataset has the following attributes\n",
    "    - Date\n",
    "    - Close\n",
    "    - Volume\n",
    "    - Open\n",
    "    - High\n",
    "    - Low\n",
    "\n",
    "Note:\n",
    "- Make sure the dataset you are using is the one mentioned in the problem statement.\n",
    "- After defining your functions. Create another block to call these functions by passing the attributes mentioned in canvas."
   ]
  },
  {
   "cell_type": "code",
   "execution_count": 7,
   "metadata": {
    "deletable": false,
    "editable": false,
    "nbgrader": {
     "cell_type": "code",
     "checksum": "aff2da14c79cd0b36f2d98169672690e",
     "grade": false,
     "grade_id": "cell-09f7dfae43c9f6f8",
     "locked": true,
     "schema_version": 3,
     "solution": false,
     "task": false
    }
   },
   "outputs": [],
   "source": [
    "import matplotlib\n",
    "# Plot size to 14\" x 7\"\n",
    "matplotlib.rc('figure', figsize = (14, 7))\n",
    "# Font size to 14\n",
    "matplotlib.rc('font', size = 14)\n",
    "# Do not display top and right frame lines\n",
    "matplotlib.rc('axes.spines', top = False, right = False)\n",
    "# Remove grid lines\n",
    "matplotlib.rc('axes', grid = False)\n",
    "# Set backgound color to white\n",
    "matplotlib.rc('axes', facecolor = 'white')"
   ]
  },
  {
   "cell_type": "code",
   "execution_count": 8,
   "metadata": {
    "deletable": false,
    "nbgrader": {
     "cell_type": "code",
     "checksum": "8e320e21e3a51c6fc38e1065a5fce7b8",
     "grade": false,
     "grade_id": "cell-f262493a60cd8007",
     "locked": false,
     "schema_version": 3,
     "solution": true,
     "task": false
    }
   },
   "outputs": [],
   "source": [
    "def temporal_graph():\n",
    "    '''Input : x_data and y_data are the lists containing the data points for x and y axis\n",
    "    xlabel and ylabel are the labels that should be given to the corresponding axes\n",
    "    title contains the title of the graph\n",
    "    \n",
    "    Output : \n",
    "    Plot the temporal change of attributes High and Low values\n",
    "    Return a temporal graph with attributes Date on x-axis and a tuple of High and Low on y-axis displayed\n",
    "    \n",
    "    x_data - a python list of Dates using \"Date\" attribute from the dataset\n",
    "    y_data - a tuple of the High and Low values respectively. 'High' and 'Low' should be stored as python lists.\n",
    "             Ex: y_data = (list(df['attr_1']), list(df['attr_2']))\n",
    "    xlabel, ylabel - A string value representing the axes labels\n",
    "    title - A string representing the title for the graph\n",
    "    '''\n",
    "    \n",
    "    import matplotlib.pyplot as plt\n",
    "    \n",
    "    df = pd.read_csv('./data/HistoricalQuotes.csv')\n",
    "    \n",
    "    # your code here\n",
    "    x_data = df['Date'].tolist()\n",
    "    y_data = (df['High'].tolist(), df['Low'].tolist())\n",
    "    xlabel = 'Date'\n",
    "    ylabel = 'Volume'\n",
    "    title = 'Temporal Change of High and Low Volumes'\n",
    "\n",
    "    # Plot the data\n",
    "    plt.plot(x_data, y_data[0], label='High Volume', color='green')\n",
    "    plt.plot(x_data, y_data[1], label='Low Volume', color='red')\n",
    "    plt.xlabel(xlabel)\n",
    "    plt.ylabel(ylabel)\n",
    "    plt.title(title)\n",
    "    plt.legend()\n",
    "    plt.show()\n",
    "    \n",
    "    return x_data,y_data,xlabel,ylabel,title"
   ]
  },
  {
   "cell_type": "code",
   "execution_count": 9,
   "metadata": {
    "scrolled": false
   },
   "outputs": [
    {
     "data": {
      "image/png": "[encoded data removed]",
      "text/plain": [
       "<Figure size 432x288 with 1 Axes>"
      ]
     },
     "metadata": {
      "needs_background": "light"
     },
     "output_type": "display_data"
    }
   ],
   "source": [
    "temporal_graph();"
   ]
  },
  {
   "cell_type": "code",
   "execution_count": 10,
   "metadata": {
    "deletable": false,
    "editable": false,
    "nbgrader": {
     "cell_type": "code",
     "checksum": "10b78e6a952ddec151b6ef22c38ec8db",
     "grade": true,
     "grade_id": "cell-a8a9dace8000b375",
     "locked": true,
     "points": 2,
     "schema_version": 3,
     "solution": false,
     "task": false
    }
   },
   "outputs": [
    {
     "data": {
      "text/plain": [
       "'\\nThis cell has hidden test cases that will run after you submit your assignment. \\nYou can troubleshoot by calling the function and checking return types.\\n'"
      ]
     },
     "execution_count": 10,
     "metadata": {},
     "output_type": "execute_result"
    }
   ],
   "source": [
    "'''\n",
    "This cell has hidden test cases that will run after you submit your assignment. \n",
    "You can troubleshoot by calling the function and checking return types.\n",
    "'''\n"
   ]
  },
  {
   "cell_type": "code",
   "execution_count": 11,
   "metadata": {},
   "outputs": [
    {
     "data": {
      "image/png": "[encoded data removed]",
      "text/plain": [
       "<Figure size 432x288 with 1 Axes>"
      ]
     },
     "metadata": {
      "needs_background": "light"
     },
     "output_type": "display_data"
    },
    {
     "name": "stdout",
     "output_type": "stream",
     "text": [
      "x_data type: <class 'list'>\n",
      "First element of x_data type: <class 'str'>\n",
      "y_data type: <class 'tuple'>\n",
      "First element of y_data[0] type: <class 'float'>\n",
      "First element of y_data[1] type: <class 'float'>\n",
      "xlabel type: <class 'str'>\n",
      "ylabel type: <class 'str'>\n",
      "title type: <class 'str'>\n"
     ]
    }
   ],
   "source": [
    "# Troubleshooting function\n",
    "\n",
    "# Call the function and get the returned values\n",
    "x_data, y_data, xlabel, ylabel, title = temporal_graph()\n",
    "\n",
    "# Print the types of the returned values\n",
    "print(f\"x_data type: {type(x_data)}\")\n",
    "print(f\"First element of x_data type: {type(x_data[0]) if len(x_data) > 0 else 'Empty list'}\")\n",
    "print(f\"y_data type: {type(y_data)}\")\n",
    "print(f\"First element of y_data[0] type: {type(y_data[0][0]) if len(y_data[0]) > 0 else 'Empty list'}\")\n",
    "print(f\"First element of y_data[1] type: {type(y_data[1][0]) if len(y_data[1]) > 0 else 'Empty list'}\")\n",
    "print(f\"xlabel type: {type(xlabel)}\")\n",
    "print(f\"ylabel type: {type(ylabel)}\")\n",
    "print(f\"title type: {type(title)}\")\n"
   ]
  },
  {
   "cell_type": "code",
   "execution_count": 12,
   "metadata": {
    "deletable": false,
    "nbgrader": {
     "cell_type": "code",
     "checksum": "ef467c73f896a2883c3e1bc51d35c11f",
     "grade": false,
     "grade_id": "cell-51ff89ef927d6018",
     "locked": false,
     "schema_version": 3,
     "solution": true,
     "task": false
    }
   },
   "outputs": [],
   "source": [
    "def boxplot():\n",
    "    '''Input : x_data and y_data are the lists containing the data points for x and y axis\n",
    "    base_color and median_color can be used to set colors in the graph.\n",
    "    xlabel and ylabel are the labels that should be given to the corresponding axes\n",
    "    title contains the title of the graph.\n",
    "    \n",
    "    Output : A boxplot with Open and Close attributes on the x-axis displayed\n",
    "    \n",
    "    x_data - a tuple of Open and Close values respectively. Open and Close should be stored as a python list.\n",
    "             Ex: x_data = (list(df['attr_1']), list(df['attr_2']))\n",
    "    xlabel, ylabel - A string value representing the axes labels\n",
    "    title - A string representing the title for the graph\n",
    "    '''\n",
    "    import matplotlib.pyplot as plt\n",
    "    \n",
    "    df = pd.read_csv('./data/HistoricalQuotes.csv')\n",
    "        \n",
    "    x_data = (df['Open'].tolist(), df['Close'].tolist())\n",
    "    xlabel = 'Stock Prices'\n",
    "    ylabel = 'Volume'\n",
    "    title = 'Boxplot of Open and Close Prices'\n",
    "    base_color = 'lightblue'\n",
    "    median_color = 'red'\n",
    "    \n",
    "    plt.figure()\n",
    "    box = plt.boxplot(x_data, labels=['Open', 'Close'], patch_artist=True)\n",
    "    \n",
    "    \n",
    "    for patch in box['boxes']:\n",
    "        patch.set_facecolor(base_color)\n",
    "        \n",
    "    for median in box['medians']:\n",
    "        median.set_color(median_color)\n",
    "    \n",
    "    plt.xlabel(xlabel)\n",
    "    plt.ylabel(ylabel)\n",
    "    plt.title(title)\n",
    "    plt.show()\n",
    "    \n",
    "    return x_data, xlabel, ylabel, title"
   ]
  },
  {
   "cell_type": "code",
   "execution_count": 13,
   "metadata": {
    "scrolled": false
   },
   "outputs": [
    {
     "data": {
      "image/png": "[encoded data removed]",
      "text/plain": [
       "<Figure size 432x288 with 1 Axes>"
      ]
     },
     "metadata": {
      "needs_background": "light"
     },
     "output_type": "display_data"
    }
   ],
   "source": [
    "boxplot();"
   ]
  },
  {
   "cell_type": "code",
   "execution_count": 14,
   "metadata": {
    "deletable": false,
    "editable": false,
    "nbgrader": {
     "cell_type": "code",
     "checksum": "fdca2d2c76a46b748804df557feadf39",
     "grade": true,
     "grade_id": "cell-34f53d2a937e45f2",
     "locked": true,
     "points": 1,
     "schema_version": 3,
     "solution": false,
     "task": false
    }
   },
   "outputs": [
    {
     "data": {
      "text/plain": [
       "'\\nThis cell has hidden test cases that will run after you submit your assignment. \\nYou can troubleshoot by calling the function and checking return types.\\n'"
      ]
     },
     "execution_count": 14,
     "metadata": {},
     "output_type": "execute_result"
    }
   ],
   "source": [
    "'''\n",
    "This cell has hidden test cases that will run after you submit your assignment. \n",
    "You can troubleshoot by calling the function and checking return types.\n",
    "'''\n"
   ]
  },
  {
   "cell_type": "code",
   "execution_count": 15,
   "metadata": {},
   "outputs": [
    {
     "name": "stdout",
     "output_type": "stream",
     "text": [
      "x_data type: <class 'list'>\n",
      "First element of x_data[0] type: <class 'str'>\n",
      "First element of x_data[1] type: <class 'str'>\n",
      "xlabel type: <class 'str'>\n",
      "ylabel type: <class 'str'>\n",
      "title type: <class 'str'>\n"
     ]
    }
   ],
   "source": [
    "# Troubleshooting function to check the return types and values\n",
    "def troubleshoot_boxplot(x_data, xlabel, ylabel, title):\n",
    "    print(f\"x_data type: {type(x_data)}\")\n",
    "    print(f\"First element of x_data[0] type: {type(x_data[0][0]) if len(x_data[0]) > 0 else 'Empty list'}\")\n",
    "    print(f\"First element of x_data[1] type: {type(x_data[1][0]) if len(x_data[1]) > 0 else 'Empty list'}\")\n",
    "    print(f\"xlabel type: {type(xlabel)}\")\n",
    "    print(f\"ylabel type: {type(ylabel)}\")\n",
    "    print(f\"title type: {type(title)}\")\n",
    "\n",
    "# Call the troubleshooting function\n",
    "troubleshoot_boxplot(x_data, xlabel, ylabel, title)"
   ]
  },
  {
   "cell_type": "code",
   "execution_count": 16,
   "metadata": {
    "deletable": false,
    "nbgrader": {
     "cell_type": "code",
     "checksum": "6ab525c41e6e239d86036fcebe088341",
     "grade": false,
     "grade_id": "cell-6e477222af744e1e",
     "locked": false,
     "schema_version": 3,
     "solution": true,
     "task": false
    }
   },
   "outputs": [],
   "source": [
    "def histogram():\n",
    "    '''Input : data is the list containing the data points for histogram buckets\n",
    "    xlabel and ylabel are the labels that should be given to the corresponding axes\n",
    "    title contains the title of the graph\n",
    "    \n",
    "    Output : A histogram of the Volume attribute displayed\n",
    "    \n",
    "    data - A python list containing the data associated with the Volume attribute\n",
    "    x_label, y_label - A string representing the axes labels \n",
    "    '''\n",
    "    import matplotlib.pyplot as plt\n",
    "    \n",
    "    df = pd.read_csv('./data/HistoricalQuotes.csv')\n",
    "    \n",
    "    # Extract the Volume attribute into a list\n",
    "    data = df['Volume'].tolist()\n",
    "\n",
    "    # Define the labels for the axes\n",
    "    x_label = 'Volume'\n",
    "    y_label = 'Frequency'\n",
    "    title = 'Histogram of Volume Attribute'\n",
    "\n",
    "    # Create the histogram\n",
    "    plt.figure(figsize=(10, 6))\n",
    "    plt.hist(data, bins=30, edgecolor='black')\n",
    "    \n",
    "    # Set the title and labels\n",
    "    plt.title(title)\n",
    "    plt.xlabel(x_label)\n",
    "    plt.ylabel(y_label)\n",
    "\n",
    "    # Display the histogram\n",
    "    plt.show()\n",
    "    \n",
    "    return data, x_label, y_label"
   ]
  },
  {
   "cell_type": "code",
   "execution_count": 17,
   "metadata": {},
   "outputs": [
    {
     "data": {
      "image/png": "[encoded data removed]",
      "text/plain": [
       "<Figure size 432x288 with 1 Axes>"
      ]
     },
     "metadata": {
      "needs_background": "light"
     },
     "output_type": "display_data"
    }
   ],
   "source": [
    "histogram();"
   ]
  },
  {
   "cell_type": "code",
   "execution_count": 18,
   "metadata": {
    "deletable": false,
    "editable": false,
    "nbgrader": {
     "cell_type": "code",
     "checksum": "a4c6c8e00948adc5769275f48e7bd2d3",
     "grade": true,
     "grade_id": "cell-9719ed64b0c27717",
     "locked": true,
     "points": 1,
     "schema_version": 3,
     "solution": false,
     "task": false
    }
   },
   "outputs": [
    {
     "data": {
      "text/plain": [
       "'\\nThis cell has hidden test cases that will run after you submit your assignment. \\nYou can troubleshoot by calling the function and checking return types.\\n'"
      ]
     },
     "execution_count": 18,
     "metadata": {},
     "output_type": "execute_result"
    }
   ],
   "source": [
    "'''\n",
    "This cell has hidden test cases that will run after you submit your assignment. \n",
    "You can troubleshoot by calling the function and checking return types.\n",
    "'''\n"
   ]
  },
  {
   "cell_type": "code",
   "execution_count": 19,
   "metadata": {},
   "outputs": [
    {
     "data": {
      "image/png": "[encoded data removed]",
      "text/plain": [
       "<Figure size 432x288 with 1 Axes>"
      ]
     },
     "metadata": {
      "needs_background": "light"
     },
     "output_type": "display_data"
    },
    {
     "name": "stdout",
     "output_type": "stream",
     "text": [
      "data type: <class 'list'>\n",
      "First element of data type: <class 'int'>\n",
      "xlabel type: <class 'str'>\n",
      "ylabel type: <class 'str'>\n",
      "title type: <class 'str'>\n",
      "Sample data: [16117250, 17824990, 18760840, 26800040, 10478790]\n",
      "xlabel: Volume\n",
      "ylabel: Frequency\n",
      "title: Histogram of Volume\n"
     ]
    }
   ],
   "source": [
    "# Example call to the function\n",
    "data, x_label, y_label = histogram()\n",
    "\n",
    "# Troubleshooting function to check the return types and values\n",
    "def troubleshoot_histogram(data, xlabel, ylabel, title):\n",
    "    print(f\"data type: {type(data)}\")\n",
    "    print(f\"First element of data type: {type(data[0]) if len(data) > 0 else 'Empty list'}\")\n",
    "    print(f\"xlabel type: {type(x_label)}\")\n",
    "    print(f\"ylabel type: {type(y_label)}\")\n",
    "    print(f\"Sample data: {data[:5]}\")  # Print first 5 elements of data for inspection\n",
    "    print(f\"xlabel: {x_label}\")\n",
    "    print(f\"ylabel: {y_label}\")\n",
    "    \n",
    "\n",
    "# Call the troubleshooting function\n",
    "troubleshoot_histogram(data, xlabel, ylabel, title)"
   ]
  },
  {
   "cell_type": "code",
   "execution_count": 20,
   "metadata": {},
   "outputs": [],
   "source": [
    "def amzn_new_plot():\n",
    "    '''Define this function as you would seem fit to display the plot that interests you using\n",
    "    the same dataset. Define your function parameters and display the resulting plots'''"
   ]
  }
 ],
 "metadata": {
  "hide_input": false,
  "kernelspec": {
   "display_name": "Python 3",
   "language": "python",
   "name": "python3"
  },
  "language_info": {
   "codemirror_mode": {
    "name": "ipython",
    "version": 3
   },
   "file_extension": ".py",
   "mimetype": "text/x-python",
   "name": "python",
   "nbconvert_exporter": "python",
   "pygments_lexer": "ipython3",
   "version": "3.7.6"
  },
  "latex_envs": {
   "LaTeX_envs_menu_present": true,
   "autoclose": false,
   "autocomplete": true,
   "bibliofile": "biblio.bib",
   "cite_by": "apalike",
   "current_citInitial": 1,
   "eqLabelWithNumbers": true,
   "eqNumInitial": 1,
   "hotkeys": {
    "equation": "Ctrl-E",
    "itemize": "Ctrl-I"
   },
   "labels_anchors": false,
   "latex_user_defs": false,
   "report_style_numbering": false,
   "user_envs_cfg": false
  },
  "nbTranslate": {
   "displayLangs": [
    "*"
   ],
   "hotkey": "alt-t",
   "langInMainMenu": true,
   "sourceLang": "en",
   "targetLang": "fr",
   "useGoogleTranslate": true
  },
  "toc": {
   "base_numbering": 1,
   "nav_menu": {},
   "number_sections": true,
   "sideBar": true,
   "skip_h1_title": false,
   "title_cell": "Table of Contents",
   "title_sidebar": "Contents",
   "toc_cell": false,
   "toc_position": {},
   "toc_section_display": true,
   "toc_window_display": false
  },
  "varInspector": {
   "cols": {
    "lenName": 16,
    "lenType": 16,
    "lenVar": 40
   },
   "kernels_config": {
    "python": {
     "delete_cmd_postfix": "",
     "delete_cmd_prefix": "del ",
     "library": "var_list.py",
     "varRefreshCmd": "print(var_dic_list())"
    },
    "r": {
     "delete_cmd_postfix": ") ",
     "delete_cmd_prefix": "rm(",
     "library": "var_list.r",
     "varRefreshCmd": "cat(var_dic_list()) "
    }
   },
   "types_to_exclude": [
    "module",
    "function",
    "builtin_function_or_method",
    "instance",
    "_Feature"
   ],
   "window_display": false
  }
 },
 "nbformat": 4,
 "nbformat_minor": 2
}
